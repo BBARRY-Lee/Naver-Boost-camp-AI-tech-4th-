{
  "nbformat": 4,
  "nbformat_minor": 0,
  "metadata": {
    "colab": {
      "name": "Untitled3.ipynb",
      "provenance": [],
      "collapsed_sections": [],
      "authorship_tag": "ABX9TyPgk81lxpEebnasSIzcwqUB",
      "include_colab_link": true
    },
    "kernelspec": {
      "name": "python3",
      "display_name": "Python 3"
    },
    "language_info": {
      "name": "python"
    }
  },
  "cells": [
    {
      "cell_type": "markdown",
      "metadata": {
        "id": "view-in-github",
        "colab_type": "text"
      },
      "source": [
        "<a href=\"https://colab.research.google.com/github/BBARRY-Lee/Naver-Boost-camp-AI-tech-4th-/blob/main/OOP4_%EB%8B%A4%ED%98%95%EC%84%B1%20%EC%8B%A4%EC%8A%B5.ipynb\" target=\"_parent\"><img src=\"https://colab.research.google.com/assets/colab-badge.svg\" alt=\"Open In Colab\"/></a>"
      ]
    },
    {
      "cell_type": "code",
      "execution_count": 6,
      "metadata": {
        "id": "NTSMmJ81r6tF"
      },
      "outputs": [],
      "source": [
        "class Animal:\n",
        "  def __init__(self, name):\n",
        "    self.name = name\n",
        "  def talk(self):\n",
        "    raise NotImplementedError(\"Subclass must implement abstract method\")"
      ]
    },
    {
      "cell_type": "code",
      "source": [
        "class Cat(Animal):\n",
        "  def talk(self):\n",
        "    return 'Meow!'\n",
        "\n",
        "class Dog(Animal):\n",
        "  def talf(self):\n",
        "    return 'Wf! Wf!'"
      ],
      "metadata": {
        "id": "D6S6pjwps2l6"
      },
      "execution_count": 7,
      "outputs": []
    },
    {
      "cell_type": "code",
      "source": [
        "animals = [Cat('Missy'),\n",
        "           Cat('tof')]\n",
        "\n",
        "for animal in animals:\n",
        "  print(animal.name + ': ' + animal.talk())"
      ],
      "metadata": {
        "colab": {
          "base_uri": "https://localhost:8080/"
        },
        "id": "6bDqCooqtErR",
        "outputId": "808c4838-b9df-47fd-9f35-837f806f4670"
      },
      "execution_count": 10,
      "outputs": [
        {
          "output_type": "stream",
          "name": "stdout",
          "text": [
            "Missy: Meow!\n",
            "tof: Meow!\n"
          ]
        }
      ]
    }
  ]
}