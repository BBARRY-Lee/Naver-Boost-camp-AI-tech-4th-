{
  "nbformat": 4,
  "nbformat_minor": 0,
  "metadata": {
    "colab": {
      "name": "Untitled1.ipynb",
      "provenance": [],
      "authorship_tag": "ABX9TyOQGPw20HX7f9Pbf7MqEZ+F",
      "include_colab_link": true
    },
    "kernelspec": {
      "name": "python3",
      "display_name": "Python 3"
    },
    "language_info": {
      "name": "python"
    }
  },
  "cells": [
    {
      "cell_type": "markdown",
      "metadata": {
        "id": "view-in-github",
        "colab_type": "text"
      },
      "source": [
        "<a href=\"https://colab.research.google.com/github/BBARRY-Lee/Naver-Boost-camp-AI-tech-4th-/blob/main/%EB%B2%A1%ED%84%B0%20%EC%8B%A4%EC%8A%B5.ipynb\" target=\"_parent\"><img src=\"https://colab.research.google.com/assets/colab-badge.svg\" alt=\"Open In Colab\"/></a>"
      ]
    },
    {
      "cell_type": "markdown",
      "source": [
        "**벡터 실습해보기**"
      ],
      "metadata": {
        "id": "bgcE0a_AZw_V"
      }
    },
    {
      "cell_type": "code",
      "source": [
        "import numpy as np\n"
      ],
      "metadata": {
        "id": "uWv4bTrmZ-YL"
      },
      "execution_count": 2,
      "outputs": []
    },
    {
      "cell_type": "code",
      "source": [
        "x = np.array([1, 7 ,2])\n",
        "y = np.array([5, 2 ,1])"
      ],
      "metadata": {
        "id": "F8OXpZNNab2l"
      },
      "execution_count": 7,
      "outputs": []
    },
    {
      "cell_type": "code",
      "source": [
        "x + y"
      ],
      "metadata": {
        "colab": {
          "base_uri": "https://localhost:8080/"
        },
        "id": "PQAMnFUUa5Rr",
        "outputId": "47614a37-cb68-4f64-b510-848cffe8182e"
      },
      "execution_count": 10,
      "outputs": [
        {
          "output_type": "execute_result",
          "data": {
            "text/plain": [
              "array([6, 9, 3])"
            ]
          },
          "metadata": {},
          "execution_count": 10
        }
      ]
    },
    {
      "cell_type": "code",
      "source": [
        "x - y"
      ],
      "metadata": {
        "colab": {
          "base_uri": "https://localhost:8080/"
        },
        "id": "mZAx5d7Xa8JR",
        "outputId": "cdf85f03-1857-4b56-822c-7b2301b3e315"
      },
      "execution_count": 11,
      "outputs": [
        {
          "output_type": "execute_result",
          "data": {
            "text/plain": [
              "array([-4,  5,  1])"
            ]
          },
          "metadata": {},
          "execution_count": 11
        }
      ]
    },
    {
      "cell_type": "code",
      "source": [
        "x * y"
      ],
      "metadata": {
        "colab": {
          "base_uri": "https://localhost:8080/"
        },
        "id": "8Dd4NdC0a-JE",
        "outputId": "68bb47de-8f3f-46fa-9c14-5c9daa926852"
      },
      "execution_count": 12,
      "outputs": [
        {
          "output_type": "execute_result",
          "data": {
            "text/plain": [
              "array([ 5, 14,  2])"
            ]
          },
          "metadata": {},
          "execution_count": 12
        }
      ]
    },
    {
      "cell_type": "code",
      "source": [
        "# L2-노름 : 피타고라스 정리를 이용해 유클리드 거리를 계산\n",
        "# L2-노름은 np.linalg.norm을 이용해도 구현가능\n",
        "def l1_norm(x):\n",
        "  x_norm = np.abs(x)\n",
        "  x_norm = np.sum(x_norm)\n",
        "  return x_norm\n",
        "\n",
        "def l2_norm(x):\n",
        "  x_norm =x*x\n",
        "  x_norm = np.sum(x_norm)\n",
        "  x_norm = np.sqrt(x_norm)\n",
        "  return x_norm"
      ],
      "metadata": {
        "id": "IyViAbyobNzK"
      },
      "execution_count": 17,
      "outputs": []
    },
    {
      "cell_type": "code",
      "source": [
        "# 내적을 np.inner을 이용해 계산\n",
        "def angle(x, y):\n",
        "  v= np.inner(x, y) / (l2_norm(x) * l2_norm(y))\n",
        "  theta = np.arccos(v)\n",
        "  return theta"
      ],
      "metadata": {
        "id": "8DS8rbDXb2ES"
      },
      "execution_count": 20,
      "outputs": []
    },
    {
      "cell_type": "code",
      "source": [
        ""
      ],
      "metadata": {
        "id": "rSCLJ78bcDOg"
      },
      "execution_count": null,
      "outputs": []
    }
  ]
}