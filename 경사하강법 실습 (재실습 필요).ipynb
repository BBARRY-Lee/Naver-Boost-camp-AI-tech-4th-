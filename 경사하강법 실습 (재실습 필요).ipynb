{
  "nbformat": 4,
  "nbformat_minor": 0,
  "metadata": {
    "colab": {
      "name": "Untitled3.ipynb",
      "provenance": [],
      "authorship_tag": "ABX9TyMcug8ZVP/KnbfAE2r0tOtt",
      "include_colab_link": true
    },
    "kernelspec": {
      "name": "python3",
      "display_name": "Python 3"
    },
    "language_info": {
      "name": "python"
    }
  },
  "cells": [
    {
      "cell_type": "markdown",
      "metadata": {
        "id": "view-in-github",
        "colab_type": "text"
      },
      "source": [
        "<a href=\"https://colab.research.google.com/github/BBARRY-Lee/Naver-Boost-camp-AI-tech-4th-/blob/main/%EA%B2%BD%EC%82%AC%ED%95%98%EA%B0%95%EB%B2%95%20%EC%8B%A4%EC%8A%B5%20(%EC%9E%AC%EC%8B%A4%EC%8A%B5%20%ED%95%84%EC%9A%94).ipynb\" target=\"_parent\"><img src=\"https://colab.research.google.com/assets/colab-badge.svg\" alt=\"Open In Colab\"/></a>"
      ]
    },
    {
      "cell_type": "markdown",
      "source": [
        "경사하강법 실습"
      ],
      "metadata": {
        "id": "zknRoFMajM3V"
      }
    },
    {
      "cell_type": "code",
      "execution_count": null,
      "metadata": {
        "id": "mFGVUBlRjLfo"
      },
      "outputs": [],
      "source": [
        "# 미분 계산\n",
        "import sympy as sym\n",
        "from sympy.abc import x"
      ]
    },
    {
      "cell_type": "code",
      "source": [
        "sym.diff(sym.poly(x**2 +2*x +3), x)\n",
        "\n",
        "#출력값은 아래와 같이 나와야 함\n",
        "# poly (2*x +2, x, domain='ZZ')"
      ],
      "metadata": {
        "id": "4zre-X9ujXcQ"
      },
      "execution_count": null,
      "outputs": []
    },
    {
      "cell_type": "code",
      "source": [
        "def func(val):\n",
        "  fun = sym.poly(sym.poly(x**2 + 2*x + 3)\n",
        "  return fun.subs(x, val), fun\n",
        "\n",
        "def func_gradient(fun, val):\n",
        "  _, function = fun(val)\n",
        "  diff = sym.diff(function, x)\n",
        "  return diff.subs(x, val), diff\n",
        "\n",
        "def gradient_descent(fun, init_point, lr_rate=le-2, epsilon=le-5):\n",
        "  cnt=0\n",
        "  val= init_point\n",
        "  diff, _ = func_gradient(fun, init_point)\n",
        "  while np.abs(diff) > epsilon:\n",
        "    val = val =lr_rate*diff\n",
        "    diff, _ = func_gradient(fun, val)\n",
        "    cnt+=1\n",
        "\n",
        "  print(\"함수: {}, 연산횟수: {}, 최소점: ({}, {})\".format(fun(val)[1], cnt, val fun(val)[0]))\n",
        "\n",
        "  # 출력값은 아래와 같이 나와야함\n",
        "  # 함수: Poly(x**2 +2*x +3, x, domain='ZZ), 연산횟수: 636, 최소점: (-0.999995047967832, 2.00000000002452)"
      ],
      "metadata": {
        "id": "JOppmC3vj-hQ"
      },
      "execution_count": null,
      "outputs": []
    }
  ]
}