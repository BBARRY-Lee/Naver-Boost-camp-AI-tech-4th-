{
  "nbformat": 4,
  "nbformat_minor": 0,
  "metadata": {
    "colab": {
      "name": "Untitled0.ipynb",
      "provenance": [],
      "collapsed_sections": [],
      "authorship_tag": "ABX9TyOudykZqhn9BDIKGn7OCAEI",
      "include_colab_link": true
    },
    "kernelspec": {
      "name": "python3",
      "display_name": "Python 3"
    },
    "language_info": {
      "name": "python"
    }
  },
  "cells": [
    {
      "cell_type": "markdown",
      "metadata": {
        "id": "view-in-github",
        "colab_type": "text"
      },
      "source": [
        "<a href=\"https://colab.research.google.com/github/BBARRY-Lee/Naver-Boost-camp-AI-tech-4th-/blob/main/Untitled0.ipynb\" target=\"_parent\"><img src=\"https://colab.research.google.com/assets/colab-badge.svg\" alt=\"Open In Colab\"/></a>"
      ]
    },
    {
      "cell_type": "code",
      "execution_count": 13,
      "metadata": {
        "id": "iAQGcn3ScGrA"
      },
      "outputs": [],
      "source": [
        "class SoccerPlayer(object):\n",
        "  def __init__(self, name : str, position : str, back_number : int): #설계도\n",
        "    self.name = name\n",
        "    self.position = position\n",
        "    self.back_number = back_number\n",
        "  def __str__(self):\n",
        "    return \"hello, my name is %s. My back nuber is %d\" %\\\n",
        "          (self.name, self.back_number)\n",
        "  def __add__(self, other):\n",
        "    return self.name + other.name"
      ]
    },
    {
      "cell_type": "code",
      "source": [
        "# 객체\n",
        "abc = SoccerPlayer(\"son\", \"FW\", 7)\n",
        "park = SoccerPlayer(\"park\", \"WF\", 13)\n"
      ],
      "metadata": {
        "id": "Pl3YdRN7fMm9"
      },
      "execution_count": 11,
      "outputs": []
    },
    {
      "cell_type": "code",
      "source": [
        "print(park)"
      ],
      "metadata": {
        "colab": {
          "base_uri": "https://localhost:8080/"
        },
        "id": "dwFPQcPDfrx2",
        "outputId": "af0a502c-b7ad-4469-bca4-2532db1d1788"
      },
      "execution_count": 12,
      "outputs": [
        {
          "output_type": "stream",
          "name": "stdout",
          "text": [
            "hello, my name is park. My back nuber is 13\n"
          ]
        }
      ]
    },
    {
      "cell_type": "code",
      "source": [
        ""
      ],
      "metadata": {
        "id": "uP7qVyIagWnj"
      },
      "execution_count": 14,
      "outputs": []
    }
  ]
}
