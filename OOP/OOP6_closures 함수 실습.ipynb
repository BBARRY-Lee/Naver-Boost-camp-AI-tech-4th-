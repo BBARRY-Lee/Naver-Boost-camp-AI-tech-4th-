{
  "nbformat": 4,
  "nbformat_minor": 0,
  "metadata": {
    "colab": {
      "name": "Untitled5.ipynb",
      "provenance": [],
      "collapsed_sections": [],
      "authorship_tag": "ABX9TyPO4AUQ5R4COgqjKwN9HZ8B",
      "include_colab_link": true
    },
    "kernelspec": {
      "name": "python3",
      "display_name": "Python 3"
    },
    "language_info": {
      "name": "python"
    }
  },
  "cells": [
    {
      "cell_type": "markdown",
      "metadata": {
        "id": "view-in-github",
        "colab_type": "text"
      },
      "source": [
        "<a href=\"https://colab.research.google.com/github/BBARRY-Lee/Naver-Boost-camp-AI-tech-4th-/blob/main/OOP6_closures%20%ED%95%A8%EC%88%98%20%EC%8B%A4%EC%8A%B5.ipynb\" target=\"_parent\"><img src=\"https://colab.research.google.com/assets/colab-badge.svg\" alt=\"Open In Colab\"/></a>"
      ]
    },
    {
      "cell_type": "code",
      "execution_count": 3,
      "metadata": {
        "id": "Jjr2tyxm0bPs"
      },
      "outputs": [],
      "source": [
        "def tag_func(tag, text):\n",
        "  text = text\n",
        "  tag = tag \n",
        "  def inner_func():\n",
        "    return '<{0}>{1}<{0}>'.format(tag, text) \n",
        "\n",
        "  return inner_func\n",
        "\n",
        "h1_func = tag_func('title', \"This is Python Class\") \n",
        "p_func = tag_func('p', \"Data Academy\")"
      ]
    },
    {
      "cell_type": "code",
      "source": [
        "def star(func):\n",
        "  def inner(*args, **kwargs):\n",
        "    print(\"*\" * 30)\n",
        "    func(*args, **kwargs)\n",
        "    print(\"*\" * 30)\n",
        "  return inner\n",
        "\n",
        "@star\n",
        "def printer(msg, mark):\n",
        "  print(msg)\n",
        "printer(\"Hello\", \"&\")"
      ],
      "metadata": {
        "colab": {
          "base_uri": "https://localhost:8080/"
        },
        "id": "xQL1vxkx0rS-",
        "outputId": "9214b45f-5aed-4b5a-e96c-49ab6f875a55"
      },
      "execution_count": 6,
      "outputs": [
        {
          "output_type": "stream",
          "name": "stdout",
          "text": [
            "******************************\n",
            "Hello\n",
            "******************************\n"
          ]
        }
      ]
    },
    {
      "cell_type": "code",
      "source": [
        "def generate_power(exponent):\n",
        "  def wrapper(f):\n",
        "    def inner(*args):\n",
        "      result = f(*args)\n",
        "      print(\">>>>>\", result)\n",
        "      return exponent**result\n",
        "    return inner\n",
        "  return wrapper\n",
        "\n",
        "@generate_power(2)\n",
        "def raise_two(n):\n",
        "  return n**2\n"
      ],
      "metadata": {
        "id": "zh3mQPti11vA"
      },
      "execution_count": 9,
      "outputs": []
    },
    {
      "cell_type": "code",
      "source": [
        "print(raise_two(7))"
      ],
      "metadata": {
        "colab": {
          "base_uri": "https://localhost:8080/"
        },
        "id": "DaLvkj5C19d0",
        "outputId": "9b1f0f5e-b4af-40a3-bbc8-475f98402edd"
      },
      "execution_count": 10,
      "outputs": [
        {
          "output_type": "stream",
          "name": "stdout",
          "text": [
            ">>>>> 49\n",
            "562949953421312\n"
          ]
        }
      ]
    }
  ]
}
