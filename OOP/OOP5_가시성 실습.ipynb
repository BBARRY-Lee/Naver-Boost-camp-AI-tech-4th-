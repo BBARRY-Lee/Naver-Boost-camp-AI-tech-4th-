{
  "nbformat": 4,
  "nbformat_minor": 0,
  "metadata": {
    "colab": {
      "name": "Untitled4.ipynb",
      "provenance": [],
      "authorship_tag": "ABX9TyMHgCPJCAOE381/cMtRJr+k",
      "include_colab_link": true
    },
    "kernelspec": {
      "name": "python3",
      "display_name": "Python 3"
    },
    "language_info": {
      "name": "python"
    }
  },
  "cells": [
    {
      "cell_type": "markdown",
      "metadata": {
        "id": "view-in-github",
        "colab_type": "text"
      },
      "source": [
        "<a href=\"https://colab.research.google.com/github/BBARRY-Lee/Naver-Boost-camp-AI-tech-4th-/blob/main/OOP5_%EA%B0%80%EC%8B%9C%EC%84%B1%20%EC%8B%A4%EC%8A%B5.ipynb\" target=\"_parent\"><img src=\"https://colab.research.google.com/assets/colab-badge.svg\" alt=\"Open In Colab\"/></a>"
      ]
    },
    {
      "cell_type": "code",
      "execution_count": 1,
      "metadata": {
        "id": "sH6EhmvWvQqm"
      },
      "outputs": [],
      "source": [
        "class Product(object):\n",
        "  pass"
      ]
    },
    {
      "cell_type": "code",
      "source": [
        "class Inventory(object):\n",
        "  def __init__(self):\n",
        "    self.item = []\n",
        "    self.test = \"abc\"\n",
        "\n",
        "  def add_new_item(self, product):\n",
        "    if type(product) == Product:\n",
        "      self.item.append(product)\n",
        "      print(\"새 아이템 추가\")\n",
        "\n",
        "    else:\n",
        "      raise ValueError(\"Invalid Item\")\n",
        "\n",
        "  def get_nuber_of_items(self):\n",
        "    return len(self.items)"
      ],
      "metadata": {
        "id": "-ERn1czIwECF"
      },
      "execution_count": 4,
      "outputs": []
    },
    {
      "cell_type": "code",
      "source": [
        "class Inventory(object):\n",
        "  def __init__(self):\n",
        "    self.item = []\n",
        "\n",
        "  def add_new_item(self, product):\n",
        "    if type(product) == Product:\n",
        "      self.__item.append(product) #__를 추가함으로써 접근 불가하도록 함\n",
        "      print(\"새 아이템 추가\")\n",
        "\n",
        "    else:\n",
        "      raise ValueError(\"Invalid Item\")\n",
        "\n",
        "  def get_nuber_of_items(self):\n",
        "    return len(self.__items)"
      ],
      "metadata": {
        "id": "iK4VxeT5w7pV"
      },
      "execution_count": 9,
      "outputs": []
    },
    {
      "cell_type": "code",
      "source": [
        "# 접근 불가한 경우 예시 (append로 추가 불가)\n",
        "my_inventory.__items "
      ],
      "metadata": {
        "id": "VUI9ihqGxLuv",
        "outputId": "c276c59b-b073-4f89-a5d3-b6e53ea396d8",
        "colab": {
          "base_uri": "https://localhost:8080/",
          "height": 174
        }
      },
      "execution_count": 12,
      "outputs": [
        {
          "output_type": "error",
          "ename": "AttributeError",
          "evalue": "ignored",
          "traceback": [
            "\u001b[0;31m---------------------------------------------------------------------------\u001b[0m",
            "\u001b[0;31mAttributeError\u001b[0m                            Traceback (most recent call last)",
            "\u001b[0;32m<ipython-input-12-11cc93e1f4f4>\u001b[0m in \u001b[0;36m<module>\u001b[0;34m()\u001b[0m\n\u001b[0;32m----> 1\u001b[0;31m \u001b[0mmy_inventory\u001b[0m\u001b[0;34m.\u001b[0m\u001b[0m__items\u001b[0m\u001b[0;34m\u001b[0m\u001b[0;34m\u001b[0m\u001b[0m\n\u001b[0m",
            "\u001b[0;31mAttributeError\u001b[0m: 'Inventory' object has no attribute '__items'"
          ]
        }
      ]
    },
    {
      "cell_type": "code",
      "source": [
        "class Inventory(object):\n",
        "  def __init__(self):\n",
        "    self.item = []\n",
        "\n",
        "  def add_new_item(self, product):\n",
        "    if type(product) == Product:\n",
        "      self.__item.append(product) #__를 추가함으로써 접근 불가하도록 함\n",
        "      print(\"새 아이템 추가\")\n",
        "\n",
        "    else:\n",
        "      raise ValueError(\"Invalid Item\")\n",
        "\n",
        "  def get_nuber_of_items(self):\n",
        "    return len(self.__items)\n",
        "# property decorater (숨겨진 변수 반환)\n",
        "    @property\n",
        "    def items(self):\n",
        "      return self.__items"
      ],
      "metadata": {
        "id": "SxB-VPWcyDUB"
      },
      "execution_count": 14,
      "outputs": []
    },
    {
      "cell_type": "code",
      "source": [
        "# 접근가능 (__입력 x)\n",
        "my_inventory.items"
      ],
      "metadata": {
        "id": "tLBqfA3Jykx-"
      },
      "execution_count": null,
      "outputs": []
    }
  ]
}
