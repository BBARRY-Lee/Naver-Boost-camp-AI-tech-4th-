{
  "nbformat": 4,
  "nbformat_minor": 0,
  "metadata": {
    "colab": {
      "name": "Untitled2.ipynb",
      "provenance": [],
      "collapsed_sections": [],
      "authorship_tag": "ABX9TyNvTPLxuPlO6VLS+MipvhDV",
      "include_colab_link": true
    },
    "kernelspec": {
      "name": "python3",
      "display_name": "Python 3"
    },
    "language_info": {
      "name": "python"
    }
  },
  "cells": [
    {
      "cell_type": "markdown",
      "metadata": {
        "id": "view-in-github",
        "colab_type": "text"
      },
      "source": [
        "<a href=\"https://colab.research.google.com/github/BBARRY-Lee/Naver-Boost-camp-AI-tech-4th-/blob/main/OOP%20%EC%83%81%EC%86%8D%EC%8B%A4%EC%8A%B5.ipynb\" target=\"_parent\"><img src=\"https://colab.research.google.com/assets/colab-badge.svg\" alt=\"Open In Colab\"/></a>"
      ]
    },
    {
      "cell_type": "code",
      "execution_count": 1,
      "metadata": {
        "id": "sLZMU7wMnZt9"
      },
      "outputs": [],
      "source": [
        "class Person(object):\n",
        "  def __init__(self, name, age):\n",
        "    self.name = name\n",
        "    self.age = age\n",
        "\n",
        "  def __str__(self):\n",
        "    return \"제 이름은 {0}입니다. 나이는 {1}입니다.\".format(\n",
        "        self.name, self.age\n",
        "    )"
      ]
    },
    {
      "cell_type": "code",
      "source": [
        "# 부모클래스를 자식 클래스로 상속\n",
        "class Korean(Person):\n",
        "  pass"
      ],
      "metadata": {
        "id": "x_6eXa7xoHi3"
      },
      "execution_count": 2,
      "outputs": []
    },
    {
      "cell_type": "code",
      "source": [
        "first_korean = Korean(\"Sungc\", 35)\n",
        "print(first_korean)"
      ],
      "metadata": {
        "colab": {
          "base_uri": "https://localhost:8080/"
        },
        "id": "Xf8mTcRToSV3",
        "outputId": "afa7a33f-af11-452e-ab17-2764739de1d1"
      },
      "execution_count": 3,
      "outputs": [
        {
          "output_type": "stream",
          "name": "stdout",
          "text": [
            "제 이름은 Sungc입니다. 나이는 35입니다.\n"
          ]
        }
      ]
    },
    {
      "cell_type": "code",
      "source": [
        "# 부모 클래스 Person 선언\n",
        "class Person(): \n",
        "  def __init__(self, name, age, gender) :\n",
        "    self.name = name\n",
        "    self.age = age\n",
        "    self.gender = gender\n",
        "# Method 선언\n",
        "  def about_me(self):\n",
        "    print(\"제 이름은\", self.name, \"이구요, 제 나이는\",str(self.age), \"살 입니다.\")\n",
        "  def __str__(self):\n",
        "    return \"제 이름은\", self.name, \"이구요, 제 나이는\",str(self.age), \"살 입니다.\""
      ],
      "metadata": {
        "id": "8aGfB01LohUB"
      },
      "execution_count": 6,
      "outputs": []
    },
    {
      "cell_type": "code",
      "source": [
        "# 부모 클래스 Person으로부터 상속\n",
        "class Employee(Person):\n",
        "  def __init__(self, name, age, gender, salary, hire_date):\n",
        "    super().__init__(name, age, gender) # 부모객체 사용 (super는 self와 비슷하나, 차이점은 자기자신의 부모 class를 불러오는 것)\n",
        "    self.salary = salary\n",
        "    self.hire_date = hire_date # 속성값 추가\n",
        "# 새로운 Nethod 추가\n",
        "  def do_work(self):\n",
        "    print(\"열입 합니당.\")\n",
        "\n",
        "  def about_me(self): # 부모 클래스 함수 재정의\n",
        "    super().about_me() # 부모 클래스 함수 사용\n",
        "    print(\"제 급여는\", self.salary, \"원 이구요, 제 입사일은\", self.hire_date, \"입니다.\")"
      ],
      "metadata": {
        "id": "xSpLXydhpdjK"
      },
      "execution_count": 10,
      "outputs": []
    },
    {
      "cell_type": "code",
      "source": [
        "myPerson = Person(\"John\", 34, \"Male\")\n",
        "myEmployee = Employee(\"Daeho\", 34, \"Male\", 30000, \"2012/03/01\")\n",
        "myEmployee.about_me()"
      ],
      "metadata": {
        "colab": {
          "base_uri": "https://localhost:8080/"
        },
        "id": "KFPqf_P-qxF0",
        "outputId": "d31170c9-753c-487e-96f2-b358ab9140f6"
      },
      "execution_count": 11,
      "outputs": [
        {
          "output_type": "stream",
          "name": "stdout",
          "text": [
            "제 이름은 Daeho 이구요, 제 나이는 34 살 입니다.\n",
            "제 급여는 30000 원 이구요, 제 입사일은 2012/03/01 입니다.\n"
          ]
        }
      ]
    }
  ]
}
