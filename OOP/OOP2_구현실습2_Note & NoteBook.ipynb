{
  "nbformat": 4,
  "nbformat_minor": 0,
  "metadata": {
    "colab": {
      "name": "Untitled1.ipynb",
      "provenance": [],
      "authorship_tag": "ABX9TyMTvStb1yFSyJ4ve5s5JiO/",
      "include_colab_link": true
    },
    "kernelspec": {
      "name": "python3",
      "display_name": "Python 3"
    },
    "language_info": {
      "name": "python"
    }
  },
  "cells": [
    {
      "cell_type": "markdown",
      "metadata": {
        "id": "view-in-github",
        "colab_type": "text"
      },
      "source": [
        "<a href=\"https://colab.research.google.com/github/BBARRY-Lee/Naver-Boost-camp-AI-tech-4th-/blob/main/Untitled1.ipynb\" target=\"_parent\"><img src=\"https://colab.research.google.com/assets/colab-badge.svg\" alt=\"Open In Colab\"/></a>"
      ]
    },
    {
      "cell_type": "code",
      "execution_count": 3,
      "metadata": {
        "id": "6ogO1dXYi0my"
      },
      "outputs": [],
      "source": [
        "# Note class\n",
        "class Note(object):\n",
        "  def __init__(self, content = None):\n",
        "    self.content = content\n",
        "  def write_content(self, content):\n",
        "    self.content = content\n",
        "  def remove_all(self):\n",
        "    self.content = \"\"\n",
        "  def __add__(self,other):\n",
        "    return self.content + other.content\n",
        "  def __str__(self):\n",
        "    return self.content"
      ]
    },
    {
      "cell_type": "code",
      "source": [
        "# NoteBook class\n",
        "\n",
        "class NoteBook(object):\n",
        "  def __init(self, title):\n",
        "    self.title = title\n",
        "    self.page_number = 1\n",
        "    self.note = {}\n",
        "  def add_note(self, note, page=0):\n",
        "    if self.page_number < 300:\n",
        "      if page == 0:\n",
        "        self.notes[self.page_number] = note\n",
        "        self.page_number += 1\n",
        "      else :\n",
        "        self.notes = {page : note}\n",
        "        self.page_number += 1\n",
        "    else:\n",
        "      print(\"페이지가 꽉 찼습니다.\")\n",
        "\n",
        "  def remove_note(self, page_number):\n",
        "    if page_number in self.notes.keys():\n",
        "      return self.notes.pop(page_number)\n",
        "    else:\n",
        "      print(\"해당 페이지가 존재하지 않습니다.\")\n",
        "  def get_number_of_page(self):\n",
        "    return len(self.notes.keys())"
      ],
      "metadata": {
        "id": "jkTX3RY_kAX6"
      },
      "execution_count": 4,
      "outputs": []
    },
    {
      "cell_type": "code",
      "source": [
        "# 모듈 사용 예시 (from 파일명 import class명)\n",
        "#from teamlab_note import Note\n",
        "#from teamlab_note import NoteBook"
      ],
      "metadata": {
        "id": "0mkzmgF7lpyO"
      },
      "execution_count": null,
      "outputs": []
    }
  ]
}
