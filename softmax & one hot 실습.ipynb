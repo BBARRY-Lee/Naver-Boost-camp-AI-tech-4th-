{
  "nbformat": 4,
  "nbformat_minor": 0,
  "metadata": {
    "colab": {
      "name": "Untitled4.ipynb",
      "provenance": [],
      "authorship_tag": "ABX9TyN2GRLzVdyv+gX94dKun3bw",
      "include_colab_link": true
    },
    "kernelspec": {
      "name": "python3",
      "display_name": "Python 3"
    },
    "language_info": {
      "name": "python"
    }
  },
  "cells": [
    {
      "cell_type": "markdown",
      "metadata": {
        "id": "view-in-github",
        "colab_type": "text"
      },
      "source": [
        "<a href=\"https://colab.research.google.com/github/BBARRY-Lee/Naver-Boost-camp-AI-tech-4th-/blob/main/softmax%20%26%20one%20hot%20%EC%8B%A4%EC%8A%B5.ipynb\" target=\"_parent\"><img src=\"https://colab.research.google.com/assets/colab-badge.svg\" alt=\"Open In Colab\"/></a>"
      ]
    },
    {
      "cell_type": "markdown",
      "source": [
        "소프트맥스 연산"
      ],
      "metadata": {
        "id": "WykzT7VNm94s"
      }
    },
    {
      "cell_type": "code",
      "execution_count": 1,
      "metadata": {
        "id": "rubSjcGFm9eK"
      },
      "outputs": [],
      "source": [
        "import numpy as np"
      ]
    },
    {
      "cell_type": "code",
      "source": [
        "# softmax 함수를 통해 R^p에 있는 벡터를 확률벡터로 변환할 수 있음\n",
        "# softmax(o) = softmax(Wx+b)\n",
        "def softmax(vec):\n",
        "  denumerator = np.exp(vec - np.max(vec, axis=-1, keepdims=True))\n",
        "  numerator =np.sum(denumerator, axis=-1, keepdims=True)\n",
        "  val = denumerator / numerator\n",
        "  return val"
      ],
      "metadata": {
        "id": "6QuoVmLanB5z"
      },
      "execution_count": 9,
      "outputs": []
    },
    {
      "cell_type": "code",
      "source": [
        "vec = np.array([[1, 2, 0], [-1, 0, 1], [-10, 0,10]])\n",
        "softmax(vec)"
      ],
      "metadata": {
        "colab": {
          "base_uri": "https://localhost:8080/"
        },
        "id": "wZwHVaf7nNxc",
        "outputId": "13a11a90-bd36-494a-be28-c2dc6fc27739"
      },
      "execution_count": 8,
      "outputs": [
        {
          "output_type": "execute_result",
          "data": {
            "text/plain": [
              "array([[2.44728471e-01, 6.65240956e-01, 9.00305732e-02],\n",
              "       [9.00305732e-02, 2.44728471e-01, 6.65240956e-01],\n",
              "       [2.06106005e-09, 4.53978686e-05, 9.99954600e-01]])"
            ]
          },
          "metadata": {},
          "execution_count": 8
        }
      ]
    },
    {
      "cell_type": "code",
      "source": [
        "# 분류문제를 풀 때, 선형모델과 softmax 함수를 결합해서 예측함\n",
        "# 그러나, 추론할 때는 one_hot벡터 사용하지만\n",
        "# one-hot 벡터로 최대값을 가진 주소만 1로 출력하는 연산을 사용해서, softmax를 사용하지는 않음\n",
        "\n",
        "def one_hot(val, dim):\n",
        "  return [np.eye(dim)[_] for _ in val]\n",
        "\n",
        "def one_hot_encording(vec):\n",
        "  vec_dim = vec.shape[1]\n",
        "  vec_argmax = np.argmax(vec, axis=-1)\n",
        "  return one_hot(vec_argmax, vec_dim)\n",
        "def softmax(vec):\n",
        "  denumerator = np.exp(vec - np.max(vec, axis=-1, keepdims=True))\n",
        "  numerator = np.sum(denumerator, axis=-1, keepdims=True)\n",
        "  val = denumerator / numerator\n",
        "  return val"
      ],
      "metadata": {
        "id": "v3qtJYY5oVqv"
      },
      "execution_count": 10,
      "outputs": []
    },
    {
      "cell_type": "code",
      "source": [
        "vec = np.array([[1, 2, 0], [-1, 0, 1], [-10, 0, 10]])\n",
        "print(one_hot_encording(vec))\n",
        "print(one_hot_encording(softmax(vec)))"
      ],
      "metadata": {
        "colab": {
          "base_uri": "https://localhost:8080/"
        },
        "id": "HHGHTl6xpDBx",
        "outputId": "1098f468-6a79-4476-cd95-9c9943b39d61"
      },
      "execution_count": 11,
      "outputs": [
        {
          "output_type": "stream",
          "name": "stdout",
          "text": [
            "[array([0., 1., 0.]), array([0., 0., 1.]), array([0., 0., 1.])]\n",
            "[array([0., 1., 0.]), array([0., 0., 1.]), array([0., 0., 1.])]\n"
          ]
        }
      ]
    }
  ]
}